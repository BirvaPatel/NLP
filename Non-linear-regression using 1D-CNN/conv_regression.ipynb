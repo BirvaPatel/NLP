{
  "nbformat": 4,
  "nbformat_minor": 0,
  "metadata": {
    "colab": {
      "name": "1111092_1dconv_reg.ipynb",
      "provenance": [],
      "toc_visible": true
    },
    "kernelspec": {
      "name": "python3",
      "display_name": "Python 3"
    },
    "accelerator": "GPU"
  },
  "cells": [
    {
      "cell_type": "code",
      "metadata": {
        "id": "VIZG5Fd16_td"
      },
      "source": [
        "import pandas as pd\n",
        "from sklearn.model_selection import train_test_split\n",
        "import numpy as np\n",
        "\n"
      ],
      "execution_count": null,
      "outputs": []
    },
    {
      "cell_type": "code",
      "metadata": {
        "id": "SLk3qKksTH4D",
        "colab": {
          "base_uri": "https://localhost:8080/",
          "height": 376
        },
        "outputId": "0d15326c-3602-43b9-8250-2621c233048d"
      },
      "source": [
        "dataset=pd.read_csv('../content/housing.csv')\n",
        "dataset=dataset.dropna()\n",
        "print(\"Here is the first ten row of the data set\")\n",
        "dataset.head(10)\n"
      ],
      "execution_count": null,
      "outputs": [
        {
          "output_type": "stream",
          "text": [
            "here are the first ten row of the data set\n"
          ],
          "name": "stdout"
        },
        {
          "output_type": "execute_result",
          "data": {
            "text/html": [
              "<div>\n",
              "<style scoped>\n",
              "    .dataframe tbody tr th:only-of-type {\n",
              "        vertical-align: middle;\n",
              "    }\n",
              "\n",
              "    .dataframe tbody tr th {\n",
              "        vertical-align: top;\n",
              "    }\n",
              "\n",
              "    .dataframe thead th {\n",
              "        text-align: right;\n",
              "    }\n",
              "</style>\n",
              "<table border=\"1\" class=\"dataframe\">\n",
              "  <thead>\n",
              "    <tr style=\"text-align: right;\">\n",
              "      <th></th>\n",
              "      <th>longitude</th>\n",
              "      <th>latitude</th>\n",
              "      <th>housing_median_age</th>\n",
              "      <th>total_rooms</th>\n",
              "      <th>total_bedrooms</th>\n",
              "      <th>population</th>\n",
              "      <th>households</th>\n",
              "      <th>median_income</th>\n",
              "      <th>median_house_value</th>\n",
              "      <th>ocean_proximity</th>\n",
              "    </tr>\n",
              "  </thead>\n",
              "  <tbody>\n",
              "    <tr>\n",
              "      <th>0</th>\n",
              "      <td>-122.23</td>\n",
              "      <td>37.88</td>\n",
              "      <td>41.0</td>\n",
              "      <td>880.0</td>\n",
              "      <td>129.0</td>\n",
              "      <td>322.0</td>\n",
              "      <td>126.0</td>\n",
              "      <td>8.3252</td>\n",
              "      <td>452600.0</td>\n",
              "      <td>NEAR BAY</td>\n",
              "    </tr>\n",
              "    <tr>\n",
              "      <th>1</th>\n",
              "      <td>-122.22</td>\n",
              "      <td>37.86</td>\n",
              "      <td>21.0</td>\n",
              "      <td>7099.0</td>\n",
              "      <td>1106.0</td>\n",
              "      <td>2401.0</td>\n",
              "      <td>1138.0</td>\n",
              "      <td>8.3014</td>\n",
              "      <td>358500.0</td>\n",
              "      <td>NEAR BAY</td>\n",
              "    </tr>\n",
              "    <tr>\n",
              "      <th>2</th>\n",
              "      <td>-122.24</td>\n",
              "      <td>37.85</td>\n",
              "      <td>52.0</td>\n",
              "      <td>1467.0</td>\n",
              "      <td>190.0</td>\n",
              "      <td>496.0</td>\n",
              "      <td>177.0</td>\n",
              "      <td>7.2574</td>\n",
              "      <td>352100.0</td>\n",
              "      <td>NEAR BAY</td>\n",
              "    </tr>\n",
              "    <tr>\n",
              "      <th>3</th>\n",
              "      <td>-122.25</td>\n",
              "      <td>37.85</td>\n",
              "      <td>52.0</td>\n",
              "      <td>1274.0</td>\n",
              "      <td>235.0</td>\n",
              "      <td>558.0</td>\n",
              "      <td>219.0</td>\n",
              "      <td>5.6431</td>\n",
              "      <td>341300.0</td>\n",
              "      <td>NEAR BAY</td>\n",
              "    </tr>\n",
              "    <tr>\n",
              "      <th>4</th>\n",
              "      <td>-122.25</td>\n",
              "      <td>37.85</td>\n",
              "      <td>52.0</td>\n",
              "      <td>1627.0</td>\n",
              "      <td>280.0</td>\n",
              "      <td>565.0</td>\n",
              "      <td>259.0</td>\n",
              "      <td>3.8462</td>\n",
              "      <td>342200.0</td>\n",
              "      <td>NEAR BAY</td>\n",
              "    </tr>\n",
              "    <tr>\n",
              "      <th>5</th>\n",
              "      <td>-122.25</td>\n",
              "      <td>37.85</td>\n",
              "      <td>52.0</td>\n",
              "      <td>919.0</td>\n",
              "      <td>213.0</td>\n",
              "      <td>413.0</td>\n",
              "      <td>193.0</td>\n",
              "      <td>4.0368</td>\n",
              "      <td>269700.0</td>\n",
              "      <td>NEAR BAY</td>\n",
              "    </tr>\n",
              "    <tr>\n",
              "      <th>6</th>\n",
              "      <td>-122.25</td>\n",
              "      <td>37.84</td>\n",
              "      <td>52.0</td>\n",
              "      <td>2535.0</td>\n",
              "      <td>489.0</td>\n",
              "      <td>1094.0</td>\n",
              "      <td>514.0</td>\n",
              "      <td>3.6591</td>\n",
              "      <td>299200.0</td>\n",
              "      <td>NEAR BAY</td>\n",
              "    </tr>\n",
              "    <tr>\n",
              "      <th>7</th>\n",
              "      <td>-122.25</td>\n",
              "      <td>37.84</td>\n",
              "      <td>52.0</td>\n",
              "      <td>3104.0</td>\n",
              "      <td>687.0</td>\n",
              "      <td>1157.0</td>\n",
              "      <td>647.0</td>\n",
              "      <td>3.1200</td>\n",
              "      <td>241400.0</td>\n",
              "      <td>NEAR BAY</td>\n",
              "    </tr>\n",
              "    <tr>\n",
              "      <th>8</th>\n",
              "      <td>-122.26</td>\n",
              "      <td>37.84</td>\n",
              "      <td>42.0</td>\n",
              "      <td>2555.0</td>\n",
              "      <td>665.0</td>\n",
              "      <td>1206.0</td>\n",
              "      <td>595.0</td>\n",
              "      <td>2.0804</td>\n",
              "      <td>226700.0</td>\n",
              "      <td>NEAR BAY</td>\n",
              "    </tr>\n",
              "    <tr>\n",
              "      <th>9</th>\n",
              "      <td>-122.25</td>\n",
              "      <td>37.84</td>\n",
              "      <td>52.0</td>\n",
              "      <td>3549.0</td>\n",
              "      <td>707.0</td>\n",
              "      <td>1551.0</td>\n",
              "      <td>714.0</td>\n",
              "      <td>3.6912</td>\n",
              "      <td>261100.0</td>\n",
              "      <td>NEAR BAY</td>\n",
              "    </tr>\n",
              "  </tbody>\n",
              "</table>\n",
              "</div>"
            ],
            "text/plain": [
              "   longitude  latitude  ...  median_house_value  ocean_proximity\n",
              "0    -122.23     37.88  ...            452600.0         NEAR BAY\n",
              "1    -122.22     37.86  ...            358500.0         NEAR BAY\n",
              "2    -122.24     37.85  ...            352100.0         NEAR BAY\n",
              "3    -122.25     37.85  ...            341300.0         NEAR BAY\n",
              "4    -122.25     37.85  ...            342200.0         NEAR BAY\n",
              "5    -122.25     37.85  ...            269700.0         NEAR BAY\n",
              "6    -122.25     37.84  ...            299200.0         NEAR BAY\n",
              "7    -122.25     37.84  ...            241400.0         NEAR BAY\n",
              "8    -122.26     37.84  ...            226700.0         NEAR BAY\n",
              "9    -122.25     37.84  ...            261100.0         NEAR BAY\n",
              "\n",
              "[10 rows x 10 columns]"
            ]
          },
          "metadata": {
            "tags": []
          },
          "execution_count": 9
        }
      ]
    },
    {
      "cell_type": "code",
      "metadata": {
        "id": "mJnoksfJxy8t"
      },
      "source": [
        "x = dataset.iloc[0:20]"
      ],
      "execution_count": null,
      "outputs": []
    },
    {
      "cell_type": "code",
      "metadata": {
        "id": "BXJdkzWFx4M1"
      },
      "source": [
        "df = pd.DataFrame(x, columns = ['longitude', 'latitude', \n",
        "                                'housing_median_age', \n",
        "                                'total_rooms', 'total_bedrooms',\n",
        "                                'population',\n",
        "                                'households','median_income'])"
      ],
      "execution_count": null,
      "outputs": []
    },
    {
      "cell_type": "code",
      "metadata": {
        "id": "q76XuV3ox8l3",
        "colab": {
          "base_uri": "https://localhost:8080/",
          "height": 282
        },
        "outputId": "b01675d9-9c60-476e-a683-8f04fbdba8a6"
      },
      "source": [
        "df.plot()"
      ],
      "execution_count": null,
      "outputs": [
        {
          "output_type": "execute_result",
          "data": {
            "text/plain": [
              "<matplotlib.axes._subplots.AxesSubplot at 0x7fdce5fe90f0>"
            ]
          },
          "metadata": {
            "tags": []
          },
          "execution_count": 12
        },
        {
          "output_type": "display_data",
          "data": {
            "image/png": "[encoded data removed]",
            "text/plain": [
              "<Figure size 432x288 with 1 Axes>"
            ]
          },
          "metadata": {
            "tags": []
          }
        }
      ]
    },
    {
      "cell_type": "code",
      "metadata": {
        "id": "v5le1oUGUC-J"
      },
      "source": [
        "\n",
        "Y=dataset['median_house_value']\n",
        "X=dataset.loc[:,'longitude':'median_income']"
      ],
      "execution_count": null,
      "outputs": []
    },
    {
      "cell_type": "code",
      "metadata": {
        "id": "EkVudVjLUaLw"
      },
      "source": [
        "x_train,x_test,y_train,y_test = train_test_split(X, Y ,test_size=0.2)\n",
        "x_train_np= x_train.to_numpy()\n",
        "y_train_np= y_train.to_numpy()\n",
        "\n",
        "x_test_np= x_test.to_numpy()\n",
        "y_test_np= y_test.to_numpy()\n"
      ],
      "execution_count": null,
      "outputs": []
    },
    {
      "cell_type": "code",
      "metadata": {
        "id": "Jr0Lr47OVvFw"
      },
      "source": [
        "import torch\n",
        "from torch.nn import Conv1d\n",
        "from torch.nn import MaxPool1d\n",
        "from torch.nn import Flatten\n",
        "from torch.nn import Linear\n",
        "from torch.nn.functional import relu\n",
        "from torch.utils.data import DataLoader,TensorDataset\n"
      ],
      "execution_count": null,
      "outputs": []
    },
    {
      "cell_type": "code",
      "metadata": {
        "id": "X_F9EE9ZYry9"
      },
      "source": [
        "class CnnRegressor(torch.nn.Module):\n",
        "    def __init__(self,batch_size, inputs, outputs):\n",
        "        super(CnnRegressor,self).__init__()\n",
        "        self.batch_size=batch_size\n",
        "        self.inputs=inputs\n",
        "        self.outputs=outputs\n",
        "        \n",
        "        self.input_layer=Conv1d(inputs,batch_size,1)\n",
        "        self.max_pooling_layer= MaxPool1d(1)\n",
        "        self.conv_layer=Conv1d(batch_size,128,1)\n",
        "        self.flatten_layer=Flatten()\n",
        "        self.linear_layer=Linear(128,64)\n",
        "        self.output_layer=Linear(64,outputs)\n",
        "    def feed(self,input):\n",
        "        input=input.reshape(self.batch_size,self.inputs,1)\n",
        "        output=relu(self.input_layer(input))\n",
        "        output=self.max_pooling_layer(output)\n",
        "        output=relu(self.conv_layer(output))\n",
        "        output=self.flatten_layer(output)\n",
        "        output=self.linear_layer(output)\n",
        "        output=self.output_layer(output)\n",
        "        return output"
      ],
      "execution_count": null,
      "outputs": []
    },
    {
      "cell_type": "code",
      "metadata": {
        "id": "W4m5fK1WY3Aq",
        "colab": {
          "base_uri": "https://localhost:8080/",
          "height": 119
        },
        "outputId": "5a7f6c05-465d-463a-ac2f-c0602f6cf7bc"
      },
      "source": [
        "from torch.optim import SGD\n",
        "!pip install pytorch-ignite\n",
        "from torch.nn import L1Loss\n",
        "from ignite.contrib.metrics.regression.r2_score import R2Score"
      ],
      "execution_count": null,
      "outputs": [
        {
          "output_type": "stream",
          "text": [
            "Collecting pytorch-ignite\n",
            "\u001b[?25l  Downloading https://files.pythonhosted.org/packages/35/55/41e8a995876fd2ade29bdba0c3efefa38e7d605cb353c70f3173c04928b5/pytorch_ignite-0.3.0-py2.py3-none-any.whl (103kB)\n",
            "\r\u001b[K     |███▏                            | 10kB 25.5MB/s eta 0:00:01\r\u001b[K     |██████▎                         | 20kB 29.7MB/s eta 0:00:01\r\u001b[K     |█████████▌                      | 30kB 31.8MB/s eta 0:00:01\r\u001b[K     |████████████▋                   | 40kB 34.8MB/s eta 0:00:01\r\u001b[K     |███████████████▉                | 51kB 37.2MB/s eta 0:00:01\r\u001b[K     |███████████████████             | 61kB 31.2MB/s eta 0:00:01\r\u001b[K     |██████████████████████▏         | 71kB 31.7MB/s eta 0:00:01\r\u001b[K     |█████████████████████████▎      | 81kB 33.4MB/s eta 0:00:01\r\u001b[K     |████████████████████████████▍   | 92kB 29.0MB/s eta 0:00:01\r\u001b[K     |███████████████████████████████▋| 102kB 29.7MB/s eta 0:00:01\r\u001b[K     |████████████████████████████████| 112kB 29.7MB/s \n",
            "\u001b[?25hRequirement already satisfied: torch in /usr/local/lib/python3.6/dist-packages (from pytorch-ignite) (1.4.0)\n",
            "Installing collected packages: pytorch-ignite\n",
            "Successfully installed pytorch-ignite-0.3.0\n"
          ],
          "name": "stdout"
        }
      ]
    },
    {
      "cell_type": "code",
      "metadata": {
        "id": "-pOFDWAmZtEg",
        "colab": {
          "base_uri": "https://localhost:8080/",
          "height": 153
        },
        "outputId": "d06fe049-b6d6-48bb-a37d-a70f31505943"
      },
      "source": [
        "batch_size=64\n",
        "model=CnnRegressor(batch_size, X.shape[1], 1)\n",
        "model.cuda()"
      ],
      "execution_count": null,
      "outputs": [
        {
          "output_type": "execute_result",
          "data": {
            "text/plain": [
              "CnnRegressor(\n",
              "  (input_layer): Conv1d(8, 64, kernel_size=(1,), stride=(1,))\n",
              "  (max_pooling_layer): MaxPool1d(kernel_size=1, stride=1, padding=0, dilation=1, ceil_mode=False)\n",
              "  (conv_layer): Conv1d(64, 128, kernel_size=(1,), stride=(1,))\n",
              "  (flatten_layer): Flatten()\n",
              "  (linear_layer): Linear(in_features=128, out_features=64, bias=True)\n",
              "  (output_layer): Linear(in_features=64, out_features=1, bias=True)\n",
              ")"
            ]
          },
          "metadata": {
            "tags": []
          },
          "execution_count": 19
        }
      ]
    },
    {
      "cell_type": "code",
      "metadata": {
        "id": "aI371M38beaL"
      },
      "source": [
        "def model_loss(model,dataset,\n",
        "               train=False,\n",
        "               optimizer=None):\n",
        "    performance=L1Loss()\n",
        "    score_metric=R2Score()\n",
        "    \n",
        "    avg_loss=0\n",
        "    avg_score=0\n",
        "    count=0\n",
        "    for input,output in iter(dataset):\n",
        "        predictions=model.feed(input)\n",
        "        loss=performance(predictions,output)\n",
        "        score_metric.update([predictions,output])\n",
        "        score=score_metric.compute()\n",
        "        if(train):\n",
        "            optimizer.zero_grad()\n",
        "            loss.backward()\n",
        "            optimizer.step()\n",
        "        avg_loss += loss.item()\n",
        "        avg_score += score\n",
        "        count += 1\n",
        "    return avg_loss/count,avg_score/count\n"
      ],
      "execution_count": null,
      "outputs": []
    },
    {
      "cell_type": "code",
      "metadata": {
        "id": "wk9uS28mbp--"
      },
      "source": [
        "epochs = 100\n",
        "optimizer = SGD(model.parameters(),lr=1e-5)\n",
        "inputs=torch.from_numpy(x_train_np).cuda().float()\n",
        "outputs=torch.from_numpy(y_train_np.reshape(y_train_np.shape[0],1)).cuda().float()\n",
        "tensor= TensorDataset(inputs,outputs)\n",
        "loader= DataLoader(tensor,batch_size,shuffle=True, drop_last=True)"
      ],
      "execution_count": null,
      "outputs": []
    },
    {
      "cell_type": "code",
      "metadata": {
        "id": "d64GYa_8dIgM",
        "colab": {
          "base_uri": "https://localhost:8080/",
          "height": 1000
        },
        "outputId": "22fbbd24-86b7-4f13-d8c8-504f876369c7"
      },
      "source": [
        "for epoch in range(epochs):\n",
        "  avg_loss,avg_r2_score=model_loss(model,loader,\n",
        "                                   train=True,\n",
        "                                   optimizer=optimizer)\n",
        "  print(\"Epoch\"+str(epoch+1)+\":\\n\\tLoss=\"\n",
        "  +str(avg_loss)+\"\\n\\tR^2Score=\"\n",
        "  +str(avg_r2_score))\n",
        "  "
      ],
      "execution_count": null,
      "outputs": [
        {
          "output_type": "stream",
          "text": [
            "Epoch1:\n",
            "\tLoss=131263.99451593138\n",
            "\tR^2Score=-1.971421152615133\n",
            "Epoch2:\n",
            "\tLoss=115399.43468137254\n",
            "\tR^2Score=-1.0736918694897604\n",
            "Epoch3:\n",
            "\tLoss=112113.09764093137\n",
            "\tR^2Score=-0.9735294162614586\n",
            "Epoch4:\n",
            "\tLoss=108874.83327205882\n",
            "\tR^2Score=-0.8334127849801213\n",
            "Epoch5:\n",
            "\tLoss=107447.96669730393\n",
            "\tR^2Score=-0.7147338937118046\n",
            "Epoch6:\n",
            "\tLoss=104114.14712009804\n",
            "\tR^2Score=-0.5208066578039258\n",
            "Epoch7:\n",
            "\tLoss=102433.23031556372\n",
            "\tR^2Score=-0.4745590255450239\n",
            "Epoch8:\n",
            "\tLoss=99809.40637254903\n",
            "\tR^2Score=-0.3813422315828071\n",
            "Epoch9:\n",
            "\tLoss=97485.87858455883\n",
            "\tR^2Score=-0.3597246476695532\n",
            "Epoch10:\n",
            "\tLoss=96243.0172947304\n",
            "\tR^2Score=-0.35156936480377643\n",
            "Epoch11:\n",
            "\tLoss=93457.65226715687\n",
            "\tR^2Score=-0.31951641132246683\n",
            "Epoch12:\n",
            "\tLoss=92349.0859375\n",
            "\tR^2Score=-0.12222552578727133\n",
            "Epoch13:\n",
            "\tLoss=92167.69453125\n",
            "\tR^2Score=-0.09524533573559353\n",
            "Epoch14:\n",
            "\tLoss=91142.74742647058\n",
            "\tR^2Score=-0.12870195853600916\n",
            "Epoch15:\n",
            "\tLoss=89996.68131127451\n",
            "\tR^2Score=-0.08654718485388145\n",
            "Epoch16:\n",
            "\tLoss=91317.81525735294\n",
            "\tR^2Score=-0.11152977801811566\n",
            "Epoch17:\n",
            "\tLoss=90766.27621017156\n",
            "\tR^2Score=-0.0955098678531\n",
            "Epoch18:\n",
            "\tLoss=86573.39439338235\n",
            "\tR^2Score=-0.033432776016901755\n",
            "Epoch19:\n",
            "\tLoss=87671.79715073529\n",
            "\tR^2Score=-0.016034524486312676\n",
            "Epoch20:\n",
            "\tLoss=87781.3225490196\n",
            "\tR^2Score=0.012725818191180207\n",
            "Epoch21:\n",
            "\tLoss=86448.91300551471\n",
            "\tR^2Score=0.015050567351754847\n",
            "Epoch22:\n",
            "\tLoss=87103.02844669118\n",
            "\tR^2Score=0.03866906466277563\n",
            "Epoch23:\n",
            "\tLoss=84350.8902879902\n",
            "\tR^2Score=0.03043652444726672\n",
            "Epoch24:\n",
            "\tLoss=85242.334375\n",
            "\tR^2Score=0.03599426630747468\n",
            "Epoch25:\n",
            "\tLoss=84548.4550245098\n",
            "\tR^2Score=0.09024910553175826\n",
            "Epoch26:\n",
            "\tLoss=84433.8124387255\n",
            "\tR^2Score=0.06937575314579732\n",
            "Epoch27:\n",
            "\tLoss=84056.77342218137\n",
            "\tR^2Score=0.06336688727207418\n",
            "Epoch28:\n",
            "\tLoss=83284.45810355392\n",
            "\tR^2Score=0.11116621969019179\n",
            "Epoch29:\n",
            "\tLoss=84170.4852634804\n",
            "\tR^2Score=0.07284638175491971\n",
            "Epoch30:\n",
            "\tLoss=83510.18033088236\n",
            "\tR^2Score=0.07461175350003804\n",
            "Epoch31:\n",
            "\tLoss=83270.38746936274\n",
            "\tR^2Score=0.09070549383998736\n",
            "Epoch32:\n",
            "\tLoss=82970.99891237746\n",
            "\tR^2Score=0.02587387927266471\n",
            "Epoch33:\n",
            "\tLoss=81827.13759191177\n",
            "\tR^2Score=0.1466930354715122\n",
            "Epoch34:\n",
            "\tLoss=82667.87406556372\n",
            "\tR^2Score=0.1081682355288829\n",
            "Epoch35:\n",
            "\tLoss=82851.89194240196\n",
            "\tR^2Score=0.12362402147906523\n",
            "Epoch36:\n",
            "\tLoss=81786.33959865196\n",
            "\tR^2Score=0.15473706191723735\n",
            "Epoch37:\n",
            "\tLoss=83427.92640931373\n",
            "\tR^2Score=0.048686402070723674\n",
            "Epoch38:\n",
            "\tLoss=83279.54586397059\n",
            "\tR^2Score=0.054142969530364175\n",
            "Epoch39:\n",
            "\tLoss=82372.36492034314\n",
            "\tR^2Score=0.08684127026003632\n",
            "Epoch40:\n",
            "\tLoss=81354.34797794117\n",
            "\tR^2Score=0.14087317579058206\n",
            "Epoch41:\n",
            "\tLoss=81475.6545189951\n",
            "\tR^2Score=0.13864309046419288\n",
            "Epoch42:\n",
            "\tLoss=80718.41058517157\n",
            "\tR^2Score=0.14840587224249435\n",
            "Epoch43:\n",
            "\tLoss=81249.07023590687\n",
            "\tR^2Score=0.1285627808144387\n",
            "Epoch44:\n",
            "\tLoss=80256.83609068628\n",
            "\tR^2Score=0.14429828195131786\n",
            "Epoch45:\n",
            "\tLoss=80857.44198835784\n",
            "\tR^2Score=0.15840782566172754\n",
            "Epoch46:\n",
            "\tLoss=80402.7157935049\n",
            "\tR^2Score=0.12745434461968042\n",
            "Epoch47:\n",
            "\tLoss=81360.7267310049\n",
            "\tR^2Score=0.13753820872831055\n",
            "Epoch48:\n",
            "\tLoss=80850.1625\n",
            "\tR^2Score=0.15759820356729648\n",
            "Epoch49:\n",
            "\tLoss=79969.984375\n",
            "\tR^2Score=0.15359781048015073\n",
            "Epoch50:\n",
            "\tLoss=81165.21660539215\n",
            "\tR^2Score=0.11578415547806675\n",
            "Epoch51:\n",
            "\tLoss=79794.5001685049\n",
            "\tR^2Score=0.14470017482405445\n",
            "Epoch52:\n",
            "\tLoss=80085.8751685049\n",
            "\tR^2Score=0.16411414037095004\n",
            "Epoch53:\n",
            "\tLoss=80072.7248927696\n",
            "\tR^2Score=0.1739801101862388\n",
            "Epoch54:\n",
            "\tLoss=80406.14327512255\n",
            "\tR^2Score=0.18480012040191318\n",
            "Epoch55:\n",
            "\tLoss=80417.29240196079\n",
            "\tR^2Score=0.14593354380458903\n",
            "Epoch56:\n",
            "\tLoss=79021.6204810049\n",
            "\tR^2Score=0.19501314797371708\n",
            "Epoch57:\n",
            "\tLoss=80042.28285845589\n",
            "\tR^2Score=0.1703359883558223\n",
            "Epoch58:\n",
            "\tLoss=79859.5381127451\n",
            "\tR^2Score=0.1682888390154422\n",
            "Epoch59:\n",
            "\tLoss=79327.58553921568\n",
            "\tR^2Score=0.2042512498712704\n",
            "Epoch60:\n",
            "\tLoss=77930.66727941176\n",
            "\tR^2Score=0.21068209475363886\n",
            "Epoch61:\n",
            "\tLoss=78815.92503063726\n",
            "\tR^2Score=0.2027655518381112\n",
            "Epoch62:\n",
            "\tLoss=79623.94411764706\n",
            "\tR^2Score=0.17059208111586688\n",
            "Epoch63:\n",
            "\tLoss=80330.0369485294\n",
            "\tR^2Score=0.14972883240138418\n",
            "Epoch64:\n",
            "\tLoss=78281.31067708334\n",
            "\tR^2Score=0.21116919540992982\n",
            "Epoch65:\n",
            "\tLoss=79485.7681372549\n",
            "\tR^2Score=0.17204470350626738\n",
            "Epoch66:\n",
            "\tLoss=79404.78287377451\n",
            "\tR^2Score=0.15048664522900207\n",
            "Epoch67:\n",
            "\tLoss=79383.13788296569\n",
            "\tR^2Score=0.18913517789106854\n",
            "Epoch68:\n",
            "\tLoss=79709.79741115196\n",
            "\tR^2Score=0.18406622540372922\n",
            "Epoch69:\n",
            "\tLoss=77453.05621936274\n",
            "\tR^2Score=0.2151801565555671\n",
            "Epoch70:\n",
            "\tLoss=78308.57765012255\n",
            "\tR^2Score=0.20881422935596325\n",
            "Epoch71:\n",
            "\tLoss=77725.4902879902\n",
            "\tR^2Score=0.207450993696417\n",
            "Epoch72:\n",
            "\tLoss=78556.04025735294\n",
            "\tR^2Score=0.21367348384250795\n",
            "Epoch73:\n",
            "\tLoss=78452.43344056372\n",
            "\tR^2Score=0.19681966852837843\n",
            "Epoch74:\n",
            "\tLoss=77551.92521446079\n",
            "\tR^2Score=0.23026615729638822\n",
            "Epoch75:\n",
            "\tLoss=76557.77936580882\n",
            "\tR^2Score=0.2518863877532216\n",
            "Epoch76:\n",
            "\tLoss=77697.59970894607\n",
            "\tR^2Score=0.2174473555577458\n",
            "Epoch77:\n",
            "\tLoss=76568.31314338236\n",
            "\tR^2Score=0.20338607103356376\n",
            "Epoch78:\n",
            "\tLoss=76705.16125919118\n",
            "\tR^2Score=0.256747600581416\n",
            "Epoch79:\n",
            "\tLoss=77139.30759803922\n",
            "\tR^2Score=0.22896368129223393\n",
            "Epoch80:\n",
            "\tLoss=77167.1066942402\n",
            "\tR^2Score=0.25130753825766433\n",
            "Epoch81:\n",
            "\tLoss=76652.42025122549\n",
            "\tR^2Score=0.24214041479116147\n",
            "Epoch82:\n",
            "\tLoss=77631.1136182598\n",
            "\tR^2Score=0.20515126398146402\n",
            "Epoch83:\n",
            "\tLoss=76146.44401041667\n",
            "\tR^2Score=0.2450739916809552\n",
            "Epoch84:\n",
            "\tLoss=77127.77674632354\n",
            "\tR^2Score=0.22989671972817485\n",
            "Epoch85:\n",
            "\tLoss=76748.57700674019\n",
            "\tR^2Score=0.24382093329301208\n",
            "Epoch86:\n",
            "\tLoss=76157.1688572304\n",
            "\tR^2Score=0.23903843509965225\n",
            "Epoch87:\n",
            "\tLoss=76174.23005514705\n",
            "\tR^2Score=0.23604988229429852\n",
            "Epoch88:\n",
            "\tLoss=76049.49875919118\n",
            "\tR^2Score=0.23408027979111035\n",
            "Epoch89:\n",
            "\tLoss=75806.78962928921\n",
            "\tR^2Score=0.24172503872683823\n",
            "Epoch90:\n",
            "\tLoss=77507.54724264707\n",
            "\tR^2Score=0.23706181734218496\n",
            "Epoch91:\n",
            "\tLoss=77067.54019607844\n",
            "\tR^2Score=0.25105973841081264\n",
            "Epoch92:\n",
            "\tLoss=76201.4288449755\n",
            "\tR^2Score=0.23534669151691825\n",
            "Epoch93:\n",
            "\tLoss=75959.88348651961\n",
            "\tR^2Score=0.21218810473128094\n",
            "Epoch94:\n",
            "\tLoss=75845.58397671569\n",
            "\tR^2Score=0.2149168795299229\n",
            "Epoch95:\n",
            "\tLoss=76223.07113970588\n",
            "\tR^2Score=0.2223281804509801\n",
            "Epoch96:\n",
            "\tLoss=77099.32830882353\n",
            "\tR^2Score=0.21848736987655412\n",
            "Epoch97:\n",
            "\tLoss=76150.07749693627\n",
            "\tR^2Score=0.23797439295711922\n",
            "Epoch98:\n",
            "\tLoss=75970.08725490196\n",
            "\tR^2Score=0.2690903271734879\n",
            "Epoch99:\n",
            "\tLoss=74765.62054227942\n",
            "\tR^2Score=0.2901486656946986\n",
            "Epoch100:\n",
            "\tLoss=75575.40338541666\n",
            "\tR^2Score=0.2774805453782891\n"
          ],
          "name": "stdout"
        }
      ]
    },
    {
      "cell_type": "code",
      "metadata": {
        "id": "mUzQB1mQu2o7",
        "colab": {
          "base_uri": "https://localhost:8080/",
          "height": 51
        },
        "outputId": "07a97c40-161e-4b2a-fe8b-ac0a19ae3fd6"
      },
      "source": [
        "inputs = torch.from_numpy(x_test_np).cuda().float()\n",
        "outputs = torch.from_numpy(y_test_np.reshape(y_test_np.shape[0], 1)).cuda().float()\n",
        "tensor = TensorDataset(inputs,outputs)\n",
        "loader = DataLoader(tensor, batch_size, shuffle=True,drop_last=True)\n",
        "avg_loss, avg_r2_score = model_loss(model, loader)\n",
        "print(\"The model L1 loss is:\" + str(avg_loss))\n",
        "print(\"The model R^2 loss is:\" + str(avg_r2_score))\n"
      ],
      "execution_count": null,
      "outputs": [
        {
          "output_type": "stream",
          "text": [
            "The model L1 loss is:76328.23127480158\n",
            "The model R^2 loss is:0.21725880396773078\n"
          ],
          "name": "stdout"
        }
      ]
    }
  ]
}