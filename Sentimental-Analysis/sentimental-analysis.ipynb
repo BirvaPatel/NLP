{
  "nbformat": 4,
  "nbformat_minor": 0,
  "metadata": {
    "colab": {
      "name": "NLP_Assig.ipynb",
      "provenance": [],
      "collapsed_sections": []
    },
    "kernelspec": {
      "name": "python3",
      "display_name": "Python 3"
    },
    "accelerator": "GPU"
  },
  "cells": [
    {
      "cell_type": "code",
      "metadata": {
        "id": "u-nq1V6MQSdZ",
        "colab_type": "code",
        "colab": {}
      },
      "source": [
        "# Import the pandas library to read our dataset\n",
        "import pandas as pd\n",
        "\n",
        "# Get the train/test split package from sklearn for preparing our dataset to\n",
        "# train and test the model with\n",
        "from sklearn.model_selection import train_test_split\n",
        "\n",
        "# Import the numpy library to work with and manipulate the data\n",
        "import numpy as np"
      ],
      "execution_count": 0,
      "outputs": []
    },
    {
      "cell_type": "code",
      "metadata": {
        "id": "uu7tqtHiR7mc",
        "colab_type": "code",
        "outputId": "577c5f16-fd89-4084-e066-d5fc99533588",
        "colab": {
          "base_uri": "https://localhost:8080/",
          "height": 204
        }
      },
      "source": [
        "# import data from google drive\n",
        "#data = pd.read_csv('train.tsv', sep='\\t')\n",
        "data = pd.read_csv('https://raw.githubusercontent.com/cacoderquan/Sentiment-Analysis-on-the-Rotten-Tomatoes-movie-review-dataset/master/train.tsv', sep='\\t')\n",
        "\n",
        "# Check the head of the dataframe\n",
        "data.head(5)\n",
        "\n"
      ],
      "execution_count": 3,
      "outputs": [
        {
          "output_type": "execute_result",
          "data": {
            "text/html": [
              "<div>\n",
              "<style scoped>\n",
              "    .dataframe tbody tr th:only-of-type {\n",
              "        vertical-align: middle;\n",
              "    }\n",
              "\n",
              "    .dataframe tbody tr th {\n",
              "        vertical-align: top;\n",
              "    }\n",
              "\n",
              "    .dataframe thead th {\n",
              "        text-align: right;\n",
              "    }\n",
              "</style>\n",
              "<table border=\"1\" class=\"dataframe\">\n",
              "  <thead>\n",
              "    <tr style=\"text-align: right;\">\n",
              "      <th></th>\n",
              "      <th>PhraseId</th>\n",
              "      <th>SentenceId</th>\n",
              "      <th>Phrase</th>\n",
              "      <th>Sentiment</th>\n",
              "    </tr>\n",
              "  </thead>\n",
              "  <tbody>\n",
              "    <tr>\n",
              "      <th>0</th>\n",
              "      <td>1</td>\n",
              "      <td>1</td>\n",
              "      <td>A series of escapades demonstrating the adage ...</td>\n",
              "      <td>1</td>\n",
              "    </tr>\n",
              "    <tr>\n",
              "      <th>1</th>\n",
              "      <td>2</td>\n",
              "      <td>1</td>\n",
              "      <td>A series of escapades demonstrating the adage ...</td>\n",
              "      <td>2</td>\n",
              "    </tr>\n",
              "    <tr>\n",
              "      <th>2</th>\n",
              "      <td>3</td>\n",
              "      <td>1</td>\n",
              "      <td>A series</td>\n",
              "      <td>2</td>\n",
              "    </tr>\n",
              "    <tr>\n",
              "      <th>3</th>\n",
              "      <td>4</td>\n",
              "      <td>1</td>\n",
              "      <td>A</td>\n",
              "      <td>2</td>\n",
              "    </tr>\n",
              "    <tr>\n",
              "      <th>4</th>\n",
              "      <td>5</td>\n",
              "      <td>1</td>\n",
              "      <td>series</td>\n",
              "      <td>2</td>\n",
              "    </tr>\n",
              "  </tbody>\n",
              "</table>\n",
              "</div>"
            ],
            "text/plain": [
              "   PhraseId  ...  Sentiment\n",
              "0         1  ...          1\n",
              "1         2  ...          2\n",
              "2         3  ...          2\n",
              "3         4  ...          2\n",
              "4         5  ...          2\n",
              "\n",
              "[5 rows x 4 columns]"
            ]
          },
          "metadata": {
            "tags": []
          },
          "execution_count": 3
        }
      ]
    },
    {
      "cell_type": "code",
      "metadata": {
        "id": "RNDOitU9R70q",
        "colab_type": "code",
        "outputId": "40e29e20-017f-4a58-d469-59235d89bb29",
        "colab": {
          "base_uri": "https://localhost:8080/",
          "height": 34
        }
      },
      "source": [
        "# check the shape of df\n",
        "data.shape\n",
        "\n"
      ],
      "execution_count": 4,
      "outputs": [
        {
          "output_type": "execute_result",
          "data": {
            "text/plain": [
              "(156060, 4)"
            ]
          },
          "metadata": {
            "tags": []
          },
          "execution_count": 4
        }
      ]
    },
    {
      "cell_type": "code",
      "metadata": {
        "id": "EXgNhvFhR78F",
        "colab_type": "code",
        "colab": {}
      },
      "source": [
        "# Get number of unique sentences\n",
        "numSentences = data['SentenceId'].max()"
      ],
      "execution_count": 0,
      "outputs": []
    },
    {
      "cell_type": "code",
      "metadata": {
        "id": "6Mjar2enR8Jw",
        "colab_type": "code",
        "outputId": "ee74f903-deb5-4786-f3e0-8da4f9c480b7",
        "colab": {
          "base_uri": "https://localhost:8080/",
          "height": 34
        }
      },
      "source": [
        "# extract full sentences only from the dataset\n",
        "fullSentences = []\n",
        "curSentence = 0\n",
        "for i in range(data.shape[0]):\n",
        "  if data['SentenceId'][i]> curSentence:\n",
        "    fullSentences.append((data['Phrase'][i], data['Sentiment'][i]))\n",
        "    curSentence = curSentence +1\n",
        "\n",
        "len(fullSentences)\n"
      ],
      "execution_count": 6,
      "outputs": [
        {
          "output_type": "execute_result",
          "data": {
            "text/plain": [
              "8544"
            ]
          },
          "metadata": {
            "tags": []
          },
          "execution_count": 6
        }
      ]
    },
    {
      "cell_type": "code",
      "metadata": {
        "id": "Z3eCi8F6R8QB",
        "colab_type": "code",
        "outputId": "aa7c5e27-3f43-452c-8dd1-2363feb8fdee",
        "colab": {
          "base_uri": "https://localhost:8080/",
          "height": 119
        }
      },
      "source": [
        "# put data into a df\n",
        "fullSentDf = pd.DataFrame(fullSentences,\n",
        "                                columns=['Phrase', 'Sentiment'])\n",
        "\n",
        "# Check class imbalance in tokenized sentences\n",
        "data['Sentiment'].value_counts()\n",
        "\n"
      ],
      "execution_count": 7,
      "outputs": [
        {
          "output_type": "execute_result",
          "data": {
            "text/plain": [
              "2    79582\n",
              "3    32927\n",
              "1    27273\n",
              "4     9206\n",
              "0     7072\n",
              "Name: Sentiment, dtype: int64"
            ]
          },
          "metadata": {
            "tags": []
          },
          "execution_count": 7
        }
      ]
    },
    {
      "cell_type": "code",
      "metadata": {
        "id": "mXZadCyAR8YG",
        "colab_type": "code",
        "outputId": "c75b8612-3d6d-421d-9592-7259c6f20e6a",
        "colab": {
          "base_uri": "https://localhost:8080/",
          "height": 119
        }
      },
      "source": [
        "# Check class imbalance in full sentences\n",
        "fullSentDf['Sentiment'].value_counts()"
      ],
      "execution_count": 8,
      "outputs": [
        {
          "output_type": "execute_result",
          "data": {
            "text/plain": [
              "3    2325\n",
              "1    2203\n",
              "2    1659\n",
              "4    1282\n",
              "0    1075\n",
              "Name: Sentiment, dtype: int64"
            ]
          },
          "metadata": {
            "tags": []
          },
          "execution_count": 8
        }
      ]
    },
    {
      "cell_type": "code",
      "metadata": {
        "id": "oou8CCv6R8fO",
        "colab_type": "code",
        "outputId": "74064004-d314-4eba-f427-5ab6ba43d57d",
        "colab": {
          "base_uri": "https://localhost:8080/",
          "height": 136
        }
      },
      "source": [
        "import nltk\n",
        "import random\n",
        "nltk.download('punkt')\n",
        "nltk.download('stopwords')\n",
        "nltk.download('wordnet')\n",
        "from nltk.tokenize import word_tokenize\n",
        "\n",
        "documents = []\n",
        "# Use only complete sentences\n",
        "for i in range(fullSentDf.shape[0]):\n",
        "  tmpWords = word_tokenize(fullSentDf['Phrase'][i])\n",
        "  documents.append((tmpWords, fullSentDf['Sentiment'][i]))\n",
        "\n",
        "random.seed(9001)\n",
        "random.shuffle(documents)\n",
        "print(documents[1][0])"
      ],
      "execution_count": 9,
      "outputs": [
        {
          "output_type": "stream",
          "text": [
            "[nltk_data] Downloading package punkt to /root/nltk_data...\n",
            "[nltk_data]   Package punkt is already up-to-date!\n",
            "[nltk_data] Downloading package stopwords to /root/nltk_data...\n",
            "[nltk_data]   Package stopwords is already up-to-date!\n",
            "[nltk_data] Downloading package wordnet to /root/nltk_data...\n",
            "[nltk_data]   Package wordnet is already up-to-date!\n",
            "['For', 'its', '100', 'minutes', 'running', 'time', ',', 'you', \"'ll\", 'wait', 'in', 'vain', 'for', 'a', 'movie', 'to', 'happen', '.']\n"
          ],
          "name": "stdout"
        }
      ]
    },
    {
      "cell_type": "code",
      "metadata": {
        "id": "hJiA-SVgR8DJ",
        "colab_type": "code",
        "outputId": "e0a2e8fa-08ce-4ab0-a9d0-98648d5e4105",
        "colab": {
          "base_uri": "https://localhost:8080/",
          "height": 34
        }
      },
      "source": [
        "len(documents)"
      ],
      "execution_count": 10,
      "outputs": [
        {
          "output_type": "execute_result",
          "data": {
            "text/plain": [
              "8544"
            ]
          },
          "metadata": {
            "tags": []
          },
          "execution_count": 10
        }
      ]
    },
    {
      "cell_type": "code",
      "metadata": {
        "id": "98ub1k3ySvGe",
        "colab_type": "code",
        "outputId": "9deeddb7-3ab5-4fd6-dbba-2e9580608711",
        "colab": {
          "base_uri": "https://localhost:8080/",
          "height": 34
        }
      },
      "source": [
        "from nltk.corpus import stopwords\n",
        "from nltk.stem import WordNetLemmatizer, PorterStemmer, LancasterStemmer\n",
        "porter = PorterStemmer()\n",
        "lancaster=LancasterStemmer()\n",
        "wordnet_lemmatizer = WordNetLemmatizer()\n",
        "stopwords_en = stopwords.words(\"english\")\n",
        "punctuations=\"?:!.,;'\\\"-()\"\n",
        "\n",
        "#parameters to adjust to see the impact on outcome\n",
        "remove_stopwords = True\n",
        "useStemming = True\n",
        "useLemma = False\n",
        "removePuncs = True\n",
        "\n",
        "for l in range(len(documents)):\n",
        "  label = documents[l][1]\n",
        "  tmpReview = []\n",
        "  for w in documents[l][0]:\n",
        "    newWord = w\n",
        "    if remove_stopwords and (w in stopwords_en):\n",
        "      continue\n",
        "    if removePuncs and (w in punctuations):\n",
        "      continue\n",
        "    if useStemming:\n",
        "      #newWord = porter.stem(newWord)\n",
        "      newWord = lancaster.stem(newWord)\n",
        "    if useLemma:\n",
        "      newWord = wordnet_lemmatizer.lemmatize(newWord)\n",
        "    tmpReview.append(newWord)\n",
        "  documents[l] = (' '.join(tmpReview), label)\n",
        "print(documents[2])"
      ],
      "execution_count": 11,
      "outputs": [
        {
          "output_type": "stream",
          "text": [
            "('ian holm conqu frant earthy napoleon', 3)\n"
          ],
          "name": "stdout"
        }
      ]
    },
    {
      "cell_type": "code",
      "metadata": {
        "id": "rSKqBjK_SvOQ",
        "colab_type": "code",
        "outputId": "1d6fa18d-57de-4b67-d268-8ff1fbd88778",
        "colab": {
          "base_uri": "https://localhost:8080/",
          "height": 34
        }
      },
      "source": [
        "all_data = pd.DataFrame(documents,\n",
        "                                columns=['text', 'sentiment'])\n",
        "# Splits the dataset so 70% is used for training and 30% for testing\n",
        "x_train_raw, x_test_raw, y_train_raw, y_test_raw = train_test_split(all_data['text'], all_data['sentiment'], test_size=0.3)\n",
        "\n",
        "len(x_train_raw)"
      ],
      "execution_count": 12,
      "outputs": [
        {
          "output_type": "execute_result",
          "data": {
            "text/plain": [
              "5980"
            ]
          },
          "metadata": {
            "tags": []
          },
          "execution_count": 12
        }
      ]
    },
    {
      "cell_type": "code",
      "metadata": {
        "id": "HFjNY0e0SvaD",
        "colab_type": "code",
        "outputId": "6b9c6cfb-3621-4230-c467-1ec1c30a8bbe",
        "colab": {
          "base_uri": "https://localhost:8080/",
          "height": 51
        }
      },
      "source": [
        "from sklearn.feature_extraction.text import TfidfVectorizer\n",
        "from sklearn.feature_extraction.text import CountVectorizer\n",
        "\n",
        "# Transform each text into a vector of word counts\n",
        "\n",
        "vectorizer = TfidfVectorizer(stop_words=\"english\",\n",
        "                            ngram_range=(1, 2))\n",
        "train_x = vectorizer.fit_transform(x_train_raw)\n",
        "\n",
        "\n",
        "train_vectorized = vectorizer.transform(x_train_raw)\n",
        "train_vectorized= np.array(train_vectorized.toarray())\n",
        "train_vectorized = train_vectorized.reshape(train_vectorized.shape[0],train_vectorized.shape[1],1)\n",
        "print(train_vectorized.shape)\n",
        "\n",
        "test_vectorized = vectorizer.transform(x_test_raw)\n",
        "test_vectorized= np.array(test_vectorized.toarray())\n",
        "test_vectorized = test_vectorized.reshape(test_vectorized.shape[0],test_vectorized.shape[1],1)\n",
        "print(test_vectorized.shape)\n"
      ],
      "execution_count": 13,
      "outputs": [
        {
          "output_type": "stream",
          "text": [
            "(5980, 50526, 1)\n",
            "(2564, 50526, 1)\n"
          ],
          "name": "stdout"
        }
      ]
    },
    {
      "cell_type": "code",
      "metadata": {
        "id": "LZUOexrkSvjZ",
        "colab_type": "code",
        "outputId": "8bbcc1fa-3ce5-475a-97b6-28b5f87366c4",
        "colab": {
          "base_uri": "https://localhost:8080/",
          "height": 80
        }
      },
      "source": [
        "from keras.utils import to_categorical\n",
        "Y_train = to_categorical(y_train_raw)\n",
        "Y_test = to_categorical(y_test_raw)"
      ],
      "execution_count": 14,
      "outputs": [
        {
          "output_type": "stream",
          "text": [
            "Using TensorFlow backend.\n"
          ],
          "name": "stderr"
        },
        {
          "output_type": "display_data",
          "data": {
            "text/html": [
              "<p style=\"color: red;\">\n",
              "The default version of TensorFlow in Colab will soon switch to TensorFlow 2.x.<br>\n",
              "We recommend you <a href=\"https://www.tensorflow.org/guide/migrate\" target=\"_blank\">upgrade</a> now \n",
              "or ensure your notebook will continue to use TensorFlow 1.x via the <code>%tensorflow_version 1.x</code> magic:\n",
              "<a href=\"https://colab.research.google.com/notebooks/tensorflow_version.ipynb\" target=\"_blank\">more info</a>.</p>\n"
            ],
            "text/plain": [
              "<IPython.core.display.HTML object>"
            ]
          },
          "metadata": {
            "tags": []
          }
        }
      ]
    },
    {
      "cell_type": "code",
      "metadata": {
        "id": "uo64j427TBZ_",
        "colab_type": "code",
        "colab": {}
      },
      "source": [
        "from keras import backend as K\n",
        "def recall_m(y_true,y_pred):\n",
        "  true_positives = K.sum(K.round(K.clip(y_true*y_pred,0,1)))\n",
        "  possible_positives = K.sum(K.round(K.clip(y_true, 0,1)))\n",
        "  recall = true_positives / (possible_positives + K.epsilon())\n",
        "  return recall\n",
        "\n",
        "def precision_m(y_true, y_pred):\n",
        "  true_positives = K.sum(K.round(K.clip(y_true*y_pred, 0,1)))\n",
        "  predicted_positives = K.sum(K.round(K.clip(y_pred, 0, 1)))\n",
        "  precision = true_positives / (predicted_positives + K.epsilon())\n",
        "  return precision\n",
        "\n",
        "def f1_m(y_true, y_pred):\n",
        "  precision= precision_m(y_true, y_pred)\n",
        "  recall= recall_m(y_true, y_pred)\n",
        "  return 2*((precision*recall)/(precision+recall+K.epsilon()))\n"
      ],
      "execution_count": 0,
      "outputs": []
    },
    {
      "cell_type": "code",
      "metadata": {
        "id": "_lb3-YRRTBsN",
        "colab_type": "code",
        "outputId": "8ebcff04-040a-4174-bf78-be5b2e4c2ea1",
        "colab": {
          "base_uri": "https://localhost:8080/",
          "height": 241
        }
      },
      "source": [
        "import keras\n",
        "from keras.models import Sequential\n",
        "from keras.layers import Dense, Activation, Dropout, Flatten, Conv1D, MaxPooling1D\n",
        "from keras.layers.normalization import BatchNormalization\n",
        "import numpy as np\n",
        "from keras import optimizers\n",
        "np.random.seed(1000)\n",
        "def CNN_model(fea_matrix, n_class, mode, compiler):\n",
        "  model = Sequential()\n",
        "  model.add(Conv1D(filters=16, kernel_size=1, activation='relu',\n",
        "                  input_shape=(fea_matrix.shape[1],fea_matrix.shape[2])))\n",
        "  model.add(MaxPooling1D(pool_size=2))\n",
        "  model.add(Conv1D(filters=32, kernel_size=1, activation='relu'))\n",
        "  model.add(MaxPooling1D(pool_size=2))\n",
        "  model.add(Flatten())\n",
        "  model.add(Activation('relu'))\n",
        "  model.add(Dense(n_class))\n",
        "  \n",
        "  model.add(Activation('softmax'))\n",
        "  model.compile(optimizer=compiler,loss='categorical_crossentropy',\n",
        "                metrics=['acc',f1_m,precision_m,recall_m])\n",
        "  return model\n",
        "\n",
        "\n",
        "lr = 1e-3\n",
        "decay=1e-4\n",
        "mode=\"reg\"\n",
        "n_class = 5\n",
        "\n",
        "adm = optimizers.Adam(lr=lr,decay=decay)\n",
        "model = CNN_model(train_vectorized,n_class,mode,adm)"
      ],
      "execution_count": 16,
      "outputs": [
        {
          "output_type": "stream",
          "text": [
            "WARNING:tensorflow:From /usr/local/lib/python3.6/dist-packages/keras/backend/tensorflow_backend.py:66: The name tf.get_default_graph is deprecated. Please use tf.compat.v1.get_default_graph instead.\n",
            "\n",
            "WARNING:tensorflow:From /usr/local/lib/python3.6/dist-packages/keras/backend/tensorflow_backend.py:541: The name tf.placeholder is deprecated. Please use tf.compat.v1.placeholder instead.\n",
            "\n",
            "WARNING:tensorflow:From /usr/local/lib/python3.6/dist-packages/keras/backend/tensorflow_backend.py:4432: The name tf.random_uniform is deprecated. Please use tf.random.uniform instead.\n",
            "\n",
            "WARNING:tensorflow:From /usr/local/lib/python3.6/dist-packages/keras/backend/tensorflow_backend.py:4267: The name tf.nn.max_pool is deprecated. Please use tf.nn.max_pool2d instead.\n",
            "\n",
            "WARNING:tensorflow:From /usr/local/lib/python3.6/dist-packages/keras/optimizers.py:793: The name tf.train.Optimizer is deprecated. Please use tf.compat.v1.train.Optimizer instead.\n",
            "\n",
            "WARNING:tensorflow:From /usr/local/lib/python3.6/dist-packages/keras/backend/tensorflow_backend.py:3576: The name tf.log is deprecated. Please use tf.math.log instead.\n",
            "\n"
          ],
          "name": "stdout"
        }
      ]
    },
    {
      "cell_type": "code",
      "metadata": {
        "id": "SWgesbN6TB4u",
        "colab_type": "code",
        "outputId": "99ca32c3-22e4-4ae6-c027-579e6b7e3451",
        "colab": {
          "base_uri": "https://localhost:8080/",
          "height": 802
        }
      },
      "source": [
        "#fit the model\n",
        "x = model.fit(train_vectorized,Y_train,batch_size=64, epochs=10, verbose=1, validation_split=0.3)\n",
        "\n",
        "#save the model\n",
        "model.save('1111092_1dconv_reg.h5')\n",
        "\n",
        "#function call for accuracy f1-score, precision and recall\n",
        "def metrics(accuracy,f1_score,precision,recall):\n",
        "  print('CNN model performance')\n",
        "  print('Accuracy:', np.round(accuracy,2))\n",
        "  print('Precision: ', np.round(precision,2))\n",
        "  print(\"recall:\", np.round(recall,2))\n",
        "  print(\"f1score:\", np.round(f1_score,2))\n",
        "loss, accuracy, f1_score, precision, recall = model.evaluate(test_vectorized, Y_test, verbose=False)\n",
        "\n",
        "# get the accuracy,f1_score,presion,recall\n",
        "metrics(accuracy,f1_score, precision, recall)"
      ],
      "execution_count": 17,
      "outputs": [
        {
          "output_type": "stream",
          "text": [
            "WARNING:tensorflow:From /tensorflow-1.15.0/python3.6/tensorflow_core/python/ops/math_grad.py:1424: where (from tensorflow.python.ops.array_ops) is deprecated and will be removed in a future version.\n",
            "Instructions for updating:\n",
            "Use tf.where in 2.0, which has the same broadcast rule as np.where\n",
            "WARNING:tensorflow:From /usr/local/lib/python3.6/dist-packages/keras/backend/tensorflow_backend.py:1033: The name tf.assign_add is deprecated. Please use tf.compat.v1.assign_add instead.\n",
            "\n",
            "WARNING:tensorflow:From /usr/local/lib/python3.6/dist-packages/keras/backend/tensorflow_backend.py:1020: The name tf.assign is deprecated. Please use tf.compat.v1.assign instead.\n",
            "\n",
            "WARNING:tensorflow:From /usr/local/lib/python3.6/dist-packages/keras/backend/tensorflow_backend.py:3005: The name tf.Session is deprecated. Please use tf.compat.v1.Session instead.\n",
            "\n",
            "Train on 4186 samples, validate on 1794 samples\n",
            "Epoch 1/10\n",
            "WARNING:tensorflow:From /usr/local/lib/python3.6/dist-packages/keras/backend/tensorflow_backend.py:190: The name tf.get_default_session is deprecated. Please use tf.compat.v1.get_default_session instead.\n",
            "\n",
            "WARNING:tensorflow:From /usr/local/lib/python3.6/dist-packages/keras/backend/tensorflow_backend.py:197: The name tf.ConfigProto is deprecated. Please use tf.compat.v1.ConfigProto instead.\n",
            "\n",
            "WARNING:tensorflow:From /usr/local/lib/python3.6/dist-packages/keras/backend/tensorflow_backend.py:207: The name tf.global_variables is deprecated. Please use tf.compat.v1.global_variables instead.\n",
            "\n",
            "WARNING:tensorflow:From /usr/local/lib/python3.6/dist-packages/keras/backend/tensorflow_backend.py:216: The name tf.is_variable_initialized is deprecated. Please use tf.compat.v1.is_variable_initialized instead.\n",
            "\n",
            "WARNING:tensorflow:From /usr/local/lib/python3.6/dist-packages/keras/backend/tensorflow_backend.py:223: The name tf.variables_initializer is deprecated. Please use tf.compat.v1.variables_initializer instead.\n",
            "\n",
            "4186/4186 [==============================] - 19s 5ms/step - loss: 1.5771 - acc: 0.2747 - f1_m: 0.0000e+00 - precision_m: 0.0000e+00 - recall_m: 0.0000e+00 - val_loss: 1.5480 - val_acc: 0.3551 - val_f1_m: 0.0000e+00 - val_precision_m: 0.0000e+00 - val_recall_m: 0.0000e+00\n",
            "Epoch 2/10\n",
            "4186/4186 [==============================] - 5s 1ms/step - loss: 1.3139 - acc: 0.5886 - f1_m: 0.0146 - precision_m: 0.2255 - recall_m: 0.0076 - val_loss: 1.4912 - val_acc: 0.3506 - val_f1_m: 0.0066 - val_precision_m: 0.1903 - val_recall_m: 0.0033\n",
            "Epoch 3/10\n",
            "4186/4186 [==============================] - 5s 1ms/step - loss: 0.6541 - acc: 0.9142 - f1_m: 0.7281 - precision_m: 0.9793 - recall_m: 0.5939 - val_loss: 1.5610 - val_acc: 0.3595 - val_f1_m: 0.2418 - val_precision_m: 0.4142 - val_recall_m: 0.1717\n",
            "Epoch 4/10\n",
            "4186/4186 [==============================] - 5s 1ms/step - loss: 0.2149 - acc: 0.9761 - f1_m: 0.9687 - precision_m: 0.9889 - recall_m: 0.9496 - val_loss: 1.7627 - val_acc: 0.3501 - val_f1_m: 0.3079 - val_precision_m: 0.3882 - val_recall_m: 0.2559\n",
            "Epoch 5/10\n",
            "4186/4186 [==============================] - 5s 1ms/step - loss: 0.0841 - acc: 0.9919 - f1_m: 0.9917 - precision_m: 0.9961 - recall_m: 0.9873 - val_loss: 1.9228 - val_acc: 0.3411 - val_f1_m: 0.3183 - val_precision_m: 0.3803 - val_recall_m: 0.2742\n",
            "Epoch 6/10\n",
            "4186/4186 [==============================] - 5s 1ms/step - loss: 0.0443 - acc: 0.9964 - f1_m: 0.9963 - precision_m: 0.9983 - recall_m: 0.9943 - val_loss: 2.0556 - val_acc: 0.3439 - val_f1_m: 0.3197 - val_precision_m: 0.3689 - val_recall_m: 0.2826\n",
            "Epoch 7/10\n",
            "4186/4186 [==============================] - 5s 1ms/step - loss: 0.0285 - acc: 0.9976 - f1_m: 0.9972 - precision_m: 0.9993 - recall_m: 0.9952 - val_loss: 2.1947 - val_acc: 0.3439 - val_f1_m: 0.3259 - val_precision_m: 0.3624 - val_recall_m: 0.2965\n",
            "Epoch 8/10\n",
            "4186/4186 [==============================] - 5s 1ms/step - loss: 0.0204 - acc: 0.9976 - f1_m: 0.9977 - precision_m: 0.9995 - recall_m: 0.9959 - val_loss: 2.2490 - val_acc: 0.3389 - val_f1_m: 0.3236 - val_precision_m: 0.3609 - val_recall_m: 0.2938\n",
            "Epoch 9/10\n",
            "4186/4186 [==============================] - 5s 1ms/step - loss: 0.0164 - acc: 0.9976 - f1_m: 0.9977 - precision_m: 0.9995 - recall_m: 0.9959 - val_loss: 2.3187 - val_acc: 0.3389 - val_f1_m: 0.3213 - val_precision_m: 0.3562 - val_recall_m: 0.2932\n",
            "Epoch 10/10\n",
            "4186/4186 [==============================] - 5s 1ms/step - loss: 0.0133 - acc: 0.9978 - f1_m: 0.9979 - precision_m: 0.9998 - recall_m: 0.9962 - val_loss: 2.3878 - val_acc: 0.3423 - val_f1_m: 0.3234 - val_precision_m: 0.3537 - val_recall_m: 0.2982\n",
            "CNN model performance\n",
            "Accuracy: 0.34\n",
            "Precision:  0.35\n",
            "recall: 0.3\n",
            "f1score: 0.32\n"
          ],
          "name": "stdout"
        }
      ]
    },
    {
      "cell_type": "code",
      "metadata": {
        "id": "euNJglY_TCG-",
        "colab_type": "code",
        "outputId": "cc7f5b4d-08ad-4002-fc4a-276ec374ac5a",
        "colab": {
          "base_uri": "https://localhost:8080/",
          "height": 295
        }
      },
      "source": [
        "import matplotlib.pyplot as plt\n",
        "def plothist(hist):\n",
        "    plt.plot(hist.history['acc'],color='green')\n",
        "    plt.plot(hist.history['val_acc'],color='red')\n",
        "    plt.title('model accuracy')\n",
        "    plt.ylabel('accuracy')\n",
        "    plt.xlabel('epoch')\n",
        "    plt.legend(['train', 'test'], loc='upper left')\n",
        "    plt.show()\n",
        "plothist(x)"
      ],
      "execution_count": 18,
      "outputs": [
        {
          "output_type": "display_data",
          "data": {
            "image/png": "[encoded data removed]",
            "text/plain": [
              "<Figure size 432x288 with 1 Axes>"
            ]
          },
          "metadata": {
            "tags": []
          }
        }
      ]
    },
    {
      "cell_type": "code",
      "metadata": {
        "id": "aigTFGP38vql",
        "colab_type": "code",
        "outputId": "c4e35b6f-3a12-408d-984e-9c2022d2ee40",
        "colab": {
          "base_uri": "https://localhost:8080/",
          "height": 295
        }
      },
      "source": [
        "import matplotlib.pyplot as plt\n",
        "def plothist(hist):\n",
        "    plt.plot(hist.history['f1_m'],color='green')\n",
        "    plt.plot(hist.history['val_f1_m'],color='green',linestyle='dashed')\n",
        "    plt.plot(hist.history['precision_m'],color='blue')\n",
        "    plt.plot(hist.history['val_precision_m'],color='blue',linestyle='dashed')\n",
        "    plt.plot(hist.history['recall_m'],color='red')\n",
        "    plt.plot(hist.history['val_recall_m'],color='red',linestyle='dashed')\n",
        "    plt.title('model precison f1score and recall')\n",
        "    plt.legend(['training param','testing param'], loc='lower right')\n",
        "    plt.ylabel('According scores')\n",
        "    plt.xlabel('epoch')\n",
        "    plt.show()\n",
        "plothist(x)"
      ],
      "execution_count": 19,
      "outputs": [
        {
          "output_type": "display_data",
          "data": {
            "image/png": "[encoded data removed]",
            "text/plain": [
              "<Figure size 432x288 with 1 Axes>"
            ]
          },
          "metadata": {
            "tags": []
          }
        }
      ]
    }
  ]
}